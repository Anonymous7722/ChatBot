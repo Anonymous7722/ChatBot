{
 "cells": [
  {
   "cell_type": "code",
   "execution_count": 54,
   "id": "9a188f79",
   "metadata": {},
   "outputs": [],
   "source": [
    "import nltk\n",
    "import random\n",
    "from sklearn.feature_extraction.text import TfidfVectorizer\n",
    "from sklearn.linear_model import LogisticRegression\n",
    "from nltk.corpus import stopwords\n",
    "from nltk.stem.porter import PorterStemmer"
   ]
  },
  {
   "cell_type": "code",
   "execution_count": 138,
   "id": "a5c7f7e9",
   "metadata": {},
   "outputs": [],
   "source": [
    "intents = [\n",
    "    {\n",
    "        \"tag\": \"greeting\",\n",
    "        \"patterns\": [\"Hi\", \"Hello\", \"Hey\", \"How are you\", \"What's up\"],\n",
    "        \"responses\": [\"Hi there\", \"Hello\", \"Hey\", \"I'm fine, thank you\", \"Nothing much\"]\n",
    "    },\n",
    "    {\n",
    "        \"tag\": \"goodbye\",\n",
    "        \"patterns\": [\"Bye\", \"See you later\", \"Goodbye\", \"Take care\"],\n",
    "        \"responses\": [\"Goodbye\", \"See you later\", \"Take care\"]\n",
    "    },\n",
    "    {\n",
    "        \"tag\": \"thanks\",\n",
    "        \"patterns\": [\"Thank you\", \"Thanks\", \"Thanks a lot\", \"I appreciate it\"],\n",
    "        \"responses\": [\"You're welcome\", \"No problem\", \"Glad I could help\"]\n",
    "    },\n",
    "        {\n",
    "        \"tag\": \"about\",\n",
    "        \"patterns\": [\"What can you do\", \"Who are you\", \"What are you\", \"What is your purpose\"],\n",
    "        \"responses\": [\"I am a chatbot\", \"My purpose is to assist you\", \"I can answer questions and provide assistance\"]\n",
    "    },\n",
    "        {\n",
    "        \"tag\": \"name\",\n",
    "        \"patterns\": [\"Your name\", \"What is your name\"],\n",
    "        \"responses\": [\"My name is Sam\", \"I am Sam\", \"I am Sam AI\"]\n",
    "        },\n",
    "    {\n",
    "        \"tag\": \"owner\",\n",
    "        \"patterns\": [\"your Owner\",'Who build you','Your Owner Name','Who created you',''],\n",
    "        \"responses\": [\"I am a chatbot Created by Shaniyaz\", \"I am an Machine Learning Model Trained by Shaniyaz\", \"Shaniyaz is my Owner\"]\n",
    "    },\n",
    "    {\n",
    "        \"tag\": \"help\",\n",
    "        \"patterns\": [\"Help\", \"I need help\", \"Can you help me\", \"What should I do\"],\n",
    "        \"responses\": [\"Sure, what do you need help with?\", \"I'm here to help. What's the problem?\", \"How can I assist you?\"]\n",
    "    },\n",
    "    {\n",
    "        \"tag\": \"age\",\n",
    "        \"patterns\": [\"How old are you\", \"What's your age\"],\n",
    "        \"responses\": [\"I don't have an age. I'm a chatbot.\", \"I was just born in the digital world.\", \"Age is just a number for me.\"]\n",
    "    },\n",
    "    {\n",
    "        \"tag\": \"weather\",\n",
    "        \"patterns\": [\"What's the weather like\", \"How's the weather today\"],\n",
    "        \"responses\": [\"I'm sorry, I cannot provide real-time weather information.\", \"You can check the weather on a weather app or website.\"]\n",
    "    },\n",
    "    {\n",
    "        \"tag\": \"budget\",\n",
    "        \"patterns\": [\"How can I make a budget\", \"What's a good budgeting strategy\", \"How do I create a budget\"],\n",
    "        \"responses\": [\"To make a budget, start by tracking your income and expenses. Then, allocate your income towards essential expenses like rent, food, and bills. Next, allocate some of your income towards savings and debt repayment. Finally, allocate the remainder of your income towards discretionary expenses like entertainment and hobbies.\", \"A good budgeting strategy is to use the 50/30/20 rule. This means allocating 50% of your income towards essential expenses, 30% towards discretionary expenses, and 20% towards savings and debt repayment.\", \"To create a budget, start by setting financial goals for yourself. Then, track your income and expenses for a few months to get a sense of where your money is going. Next, create a budget by allocating your income towards essential expenses, savings and debt repayment, and discretionary expenses.\"]\n",
    "    },\n",
    "    {\n",
    "        \"tag\": \"credit_score\",\n",
    "        \"patterns\": [\"What is a credit score\", \"How do I check my credit score\", \"How can I improve my credit score\"],\n",
    "        \"responses\": [\"A credit score is a number that represents your creditworthiness. It is based on your credit history and is used by lenders to determine whether or not to lend you money. The higher your credit score, the more likely you are to be approved for credit.\", \"You can check your credit score for free on several websites such as Credit Karma and Credit Sesame.\"]\n",
    "    },\n",
    "    {\"tag\": \"greetings\",\n",
    "     \"patterns\": [\"Hello there\", \"Hey, How are you\", \"Hey\", \"Hi\", \"Hello\", \"Anybody\", \"Hey there\"],\n",
    "     \"responses\": [\"Hello, I'm your helping bot\", \"Hey it's good to see you\", \"Hi there, how can I help you?\"],\n",
    "     \"context\": [\"\"]\n",
    "    },\n",
    "    {\"tag\": \"thanks\",\n",
    "     \"patterns\": [\"Thanks for your quick response\", \"Thank you for providing the valuable information\", \"Awesome, thanks for helping\"],\n",
    "     \"responses\": [\"Happy to help you\", \"Thanks for reaching out to me\", \"It's My pleasure to help you\"],\n",
    "     \"context\": [\"\"]\n",
    "    },\n",
    "    {\"tag\": \"no_answer\",\n",
    "     \"patterns\": [],\n",
    "     \"responses\": [\"Sorry, Could you repeat again\", \"provide me more info\", \"can't understand you\",'','Sorry, Can I Help You With Something!!'],\n",
    "     \"context\": [\"\"]\n",
    "    },\n",
    "    {\"tag\": \"support\",\n",
    "     \"patterns\": [\"What help you can do?\", \"What are the helps you provide?\", \"How you could help me\", \"What support is offered by you\"],\n",
    "     \"responses\": [ \"ticket booking for airline\", \"I can help you to book flight tickets easily\"],\n",
    "     \"context\": [\"\"]\n",
    "    },\n",
    "    {\"tag\": \"goodbye\",\n",
    "        \"patterns\": [\"bye bye\", \"Bye\", \"See you later buddy\", \"Goodbye\"],\n",
    "        \"responses\": [ \"bye bye, thanks for reaching\", \"Have a nice day there\", \"See you later\"],\n",
    "        \"context\": [\"\"]\n",
    "    }\n",
    "]"
   ]
  },
  {
   "cell_type": "code",
   "execution_count": 139,
   "id": "96d15229",
   "metadata": {},
   "outputs": [],
   "source": [
    "tags=[]\n",
    "patterns=[]"
   ]
  },
  {
   "cell_type": "code",
   "execution_count": 140,
   "id": "ec864783",
   "metadata": {},
   "outputs": [
    {
     "name": "stdout",
     "output_type": "stream",
     "text": [
      "['Hi', 'Hello', 'Hey', 'How are you', \"What's up\", 'Bye', 'See you later', 'Goodbye', 'Take care', 'Thank you', 'Thanks', 'Thanks a lot', 'I appreciate it', 'What can you do', 'Who are you', 'What are you', 'What is your purpose', 'Your name', 'What is your name', 'your Owner', 'Who build you', 'Your Owner Name', 'Who created you', '', 'Help', 'I need help', 'Can you help me', 'What should I do', 'How old are you', \"What's your age\", \"What's the weather like\", \"How's the weather today\", 'How can I make a budget', \"What's a good budgeting strategy\", 'How do I create a budget', 'What is a credit score', 'How do I check my credit score', 'How can I improve my credit score', 'Hello there', 'Hey, How are you', 'Hey', 'Hi', 'Hello', 'Anybody', 'Hey there', 'Thanks for your quick response', 'Thank you for providing the valuable information', 'Awesome, thanks for helping', 'What help you can do?', 'What are the helps you provide?', 'How you could help me', 'What support is offered by you', 'bye bye', 'Bye', 'See you later buddy', 'Goodbye']\n",
      "['greeting', 'greeting', 'greeting', 'greeting', 'greeting', 'goodbye', 'goodbye', 'goodbye', 'goodbye', 'thanks', 'thanks', 'thanks', 'thanks', 'about', 'about', 'about', 'about', 'name', 'name', 'owner', 'owner', 'owner', 'owner', 'owner', 'help', 'help', 'help', 'help', 'age', 'age', 'weather', 'weather', 'budget', 'budget', 'budget', 'credit_score', 'credit_score', 'credit_score', 'greetings', 'greetings', 'greetings', 'greetings', 'greetings', 'greetings', 'greetings', 'thanks', 'thanks', 'thanks', 'support', 'support', 'support', 'support', 'goodbye', 'goodbye', 'goodbye', 'goodbye']\n"
     ]
    }
   ],
   "source": [
    "lr=LogisticRegression(max_iter=10000)\n",
    "\n",
    "for i in intents:\n",
    "    for pattern in i['patterns']:\n",
    "        patterns.append(pattern)\n",
    "        tags.append(i['tag'])\n",
    "print(patterns)\n",
    "print(tags)\n"
   ]
  },
  {
   "cell_type": "code",
   "execution_count": 130,
   "id": "ab1bbd11",
   "metadata": {},
   "outputs": [],
   "source": [
    "port_stem = PorterStemmer()\n",
    "import re\n",
    "def noise_cleaning(noise):\n",
    "    te = noise.lower()\n",
    "    te = te.split()\n",
    "    te = [port_stem.stem(word) for word in te]\n",
    "    te = ' '.join(te)\n",
    "    te = re.sub('[^a-zA-Z]',' ',te)\n",
    "    return te"
   ]
  },
  {
   "cell_type": "code",
   "execution_count": 131,
   "id": "78c82fb2",
   "metadata": {},
   "outputs": [
    {
     "name": "stdout",
     "output_type": "stream",
     "text": [
      "['hi', 'hello', 'hey', 'how are you', 'what  up', 'bye', 'see you later', 'goodby', 'take care', 'thank you', 'thank', 'thank a lot', 'i appreci it', 'what can you do', 'who are you', 'what are you', 'what is your purpos', 'your name', 'what is your name', 'your owner', 'who build you', 'your owner name', 'who creat you', '', 'help', 'i need help', 'can you help me', 'what should i do', 'how old are you', 'what  your age', 'what  the weather like', 'how  the weather today', 'how can i make a budget', 'what  a good budget strategi', 'how do i creat a budget', 'what is a credit score', 'how do i check my credit score', 'how can i improv my credit score', 'hello there', 'hey  how are you', 'hey', 'hi', 'hello', 'anybodi', 'hey there', 'thank for your quick respons', 'thank you for provid the valuabl inform', 'awesome  thank for help', 'what help you can do ', 'what are the help you provide ', 'how you could help me', 'what support is offer by you', 'bye bye', 'bye', 'see you later buddi', 'goodby']\n"
     ]
    }
   ],
   "source": [
    "patterns_filter=[]\n",
    "for i in patterns:\n",
    "    j=noise_cleaning(i)\n",
    "    patterns_filter.append(j)\n",
    "print(patterns_filter)"
   ]
  },
  {
   "cell_type": "code",
   "execution_count": 132,
   "id": "7a2ea23d",
   "metadata": {},
   "outputs": [
    {
     "data": {
      "text/plain": [
       "'who are you shaniyaz'"
      ]
     },
     "execution_count": 132,
     "metadata": {},
     "output_type": "execute_result"
    }
   ],
   "source": [
    "noise_cleaning('who are youing Shaniyazs')"
   ]
  },
  {
   "cell_type": "code",
   "execution_count": 141,
   "id": "438ccb9c",
   "metadata": {},
   "outputs": [],
   "source": [
    "vector = TfidfVectorizer()\n",
    "x=vector.fit_transform(patterns)\n",
    "y=tags"
   ]
  },
  {
   "cell_type": "code",
   "execution_count": 142,
   "id": "b12edabe",
   "metadata": {},
   "outputs": [
    {
     "data": {
      "text/html": [
       "<style>#sk-container-id-8 {color: black;}#sk-container-id-8 pre{padding: 0;}#sk-container-id-8 div.sk-toggleable {background-color: white;}#sk-container-id-8 label.sk-toggleable__label {cursor: pointer;display: block;width: 100%;margin-bottom: 0;padding: 0.3em;box-sizing: border-box;text-align: center;}#sk-container-id-8 label.sk-toggleable__label-arrow:before {content: \"▸\";float: left;margin-right: 0.25em;color: #696969;}#sk-container-id-8 label.sk-toggleable__label-arrow:hover:before {color: black;}#sk-container-id-8 div.sk-estimator:hover label.sk-toggleable__label-arrow:before {color: black;}#sk-container-id-8 div.sk-toggleable__content {max-height: 0;max-width: 0;overflow: hidden;text-align: left;background-color: #f0f8ff;}#sk-container-id-8 div.sk-toggleable__content pre {margin: 0.2em;color: black;border-radius: 0.25em;background-color: #f0f8ff;}#sk-container-id-8 input.sk-toggleable__control:checked~div.sk-toggleable__content {max-height: 200px;max-width: 100%;overflow: auto;}#sk-container-id-8 input.sk-toggleable__control:checked~label.sk-toggleable__label-arrow:before {content: \"▾\";}#sk-container-id-8 div.sk-estimator input.sk-toggleable__control:checked~label.sk-toggleable__label {background-color: #d4ebff;}#sk-container-id-8 div.sk-label input.sk-toggleable__control:checked~label.sk-toggleable__label {background-color: #d4ebff;}#sk-container-id-8 input.sk-hidden--visually {border: 0;clip: rect(1px 1px 1px 1px);clip: rect(1px, 1px, 1px, 1px);height: 1px;margin: -1px;overflow: hidden;padding: 0;position: absolute;width: 1px;}#sk-container-id-8 div.sk-estimator {font-family: monospace;background-color: #f0f8ff;border: 1px dotted black;border-radius: 0.25em;box-sizing: border-box;margin-bottom: 0.5em;}#sk-container-id-8 div.sk-estimator:hover {background-color: #d4ebff;}#sk-container-id-8 div.sk-parallel-item::after {content: \"\";width: 100%;border-bottom: 1px solid gray;flex-grow: 1;}#sk-container-id-8 div.sk-label:hover label.sk-toggleable__label {background-color: #d4ebff;}#sk-container-id-8 div.sk-serial::before {content: \"\";position: absolute;border-left: 1px solid gray;box-sizing: border-box;top: 0;bottom: 0;left: 50%;z-index: 0;}#sk-container-id-8 div.sk-serial {display: flex;flex-direction: column;align-items: center;background-color: white;padding-right: 0.2em;padding-left: 0.2em;position: relative;}#sk-container-id-8 div.sk-item {position: relative;z-index: 1;}#sk-container-id-8 div.sk-parallel {display: flex;align-items: stretch;justify-content: center;background-color: white;position: relative;}#sk-container-id-8 div.sk-item::before, #sk-container-id-8 div.sk-parallel-item::before {content: \"\";position: absolute;border-left: 1px solid gray;box-sizing: border-box;top: 0;bottom: 0;left: 50%;z-index: -1;}#sk-container-id-8 div.sk-parallel-item {display: flex;flex-direction: column;z-index: 1;position: relative;background-color: white;}#sk-container-id-8 div.sk-parallel-item:first-child::after {align-self: flex-end;width: 50%;}#sk-container-id-8 div.sk-parallel-item:last-child::after {align-self: flex-start;width: 50%;}#sk-container-id-8 div.sk-parallel-item:only-child::after {width: 0;}#sk-container-id-8 div.sk-dashed-wrapped {border: 1px dashed gray;margin: 0 0.4em 0.5em 0.4em;box-sizing: border-box;padding-bottom: 0.4em;background-color: white;}#sk-container-id-8 div.sk-label label {font-family: monospace;font-weight: bold;display: inline-block;line-height: 1.2em;}#sk-container-id-8 div.sk-label-container {text-align: center;}#sk-container-id-8 div.sk-container {/* jupyter's `normalize.less` sets `[hidden] { display: none; }` but bootstrap.min.css set `[hidden] { display: none !important; }` so we also need the `!important` here to be able to override the default hidden behavior on the sphinx rendered scikit-learn.org. See: https://github.com/scikit-learn/scikit-learn/issues/21755 */display: inline-block !important;position: relative;}#sk-container-id-8 div.sk-text-repr-fallback {display: none;}</style><div id=\"sk-container-id-8\" class=\"sk-top-container\"><div class=\"sk-text-repr-fallback\"><pre>LogisticRegression(max_iter=10000)</pre><b>In a Jupyter environment, please rerun this cell to show the HTML representation or trust the notebook. <br />On GitHub, the HTML representation is unable to render, please try loading this page with nbviewer.org.</b></div><div class=\"sk-container\" hidden><div class=\"sk-item\"><div class=\"sk-estimator sk-toggleable\"><input class=\"sk-toggleable__control sk-hidden--visually\" id=\"sk-estimator-id-8\" type=\"checkbox\" checked><label for=\"sk-estimator-id-8\" class=\"sk-toggleable__label sk-toggleable__label-arrow\">LogisticRegression</label><div class=\"sk-toggleable__content\"><pre>LogisticRegression(max_iter=10000)</pre></div></div></div></div></div>"
      ],
      "text/plain": [
       "LogisticRegression(max_iter=10000)"
      ]
     },
     "execution_count": 142,
     "metadata": {},
     "output_type": "execute_result"
    }
   ],
   "source": [
    "lr.fit(x,y)"
   ]
  },
  {
   "cell_type": "code",
   "execution_count": 143,
   "id": "8916dfde",
   "metadata": {},
   "outputs": [],
   "source": [
    "def chatbot(text):\n",
    "    #text=noise_cleaning(text)\n",
    "    text=vector.transform([text])\n",
    "    predict=lr.predict(text)\n",
    "    for i in intents:\n",
    "        if i['tag'] == predict[0]:\n",
    "            return random.choice(i['responses'])"
   ]
  },
  {
   "cell_type": "code",
   "execution_count": 144,
   "id": "56a8e487",
   "metadata": {},
   "outputs": [
    {
     "name": "stdout",
     "output_type": "stream",
     "text": [
      "I am an Machine Learning Model Trained by Shaniyaz\n"
     ]
    }
   ],
   "source": [
    "print(chatbot('who build you'))"
   ]
  },
  {
   "cell_type": "code",
   "execution_count": 112,
   "id": "bef23a67",
   "metadata": {},
   "outputs": [],
   "source": [
    "import pickle\n",
    "\n",
    "pickle.dump(intents,open('Training_data.pkl','wb'))\n",
    "pickle.dump(vector,open('Vector_data.pkl','wb'))\n",
    "pickle.dump(lr,open('model.pkl','wb'))"
   ]
  },
  {
   "cell_type": "code",
   "execution_count": 145,
   "id": "555484f6",
   "metadata": {},
   "outputs": [],
   "source": [
    "pickle.dump(lr,open('model.pkl','wb'))\n",
    "pickle.dump(intents,open('Training_data.pkl','wb'))\n",
    "pickle.dump(vector,open('Vector_data.pkl','wb'))"
   ]
  },
  {
   "cell_type": "code",
   "execution_count": null,
   "id": "bc5b14fa",
   "metadata": {},
   "outputs": [],
   "source": []
  }
 ],
 "metadata": {
  "kernelspec": {
   "display_name": "Python 3",
   "language": "python",
   "name": "python3"
  },
  "language_info": {
   "codemirror_mode": {
    "name": "ipython",
    "version": 3
   },
   "file_extension": ".py",
   "mimetype": "text/x-python",
   "name": "python",
   "nbconvert_exporter": "python",
   "pygments_lexer": "ipython3",
   "version": "3.11.9"
  }
 },
 "nbformat": 4,
 "nbformat_minor": 5
}
